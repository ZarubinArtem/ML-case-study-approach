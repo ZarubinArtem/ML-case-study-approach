{
 "cells": [
  {
   "cell_type": "code",
   "execution_count": 1,
   "metadata": {
    "collapsed": true
   },
   "outputs": [],
   "source": [
    "import graphlab as gl"
   ]
  },
  {
   "cell_type": "code",
   "execution_count": null,
   "metadata": {
    "collapsed": true
   },
   "outputs": [],
   "source": []
  },
  {
   "cell_type": "code",
   "execution_count": 2,
   "metadata": {
    "collapsed": false
   },
   "outputs": [
    {
     "name": "stderr",
     "output_type": "stream",
     "text": [
      "[INFO] graphlab.cython.cy_server: GraphLab Create v2.1 started. Logging: /tmp/graphlab_server_1473072140.log\n"
     ]
    },
    {
     "name": "stdout",
     "output_type": "stream",
     "text": [
      "This non-commercial license of GraphLab Create for academic use is assigned to azarubin@me.com and will expire on October 10, 2016.\n"
     ]
    }
   ],
   "source": [
    "sales = gl.SFrame(\"home_data.gl/\")"
   ]
  },
  {
   "cell_type": "code",
   "execution_count": 7,
   "metadata": {
    "collapsed": false
   },
   "outputs": [
    {
     "data": {
      "text/html": [
       "<div style=\"max-height:1000px;max-width:1500px;overflow:auto;\"><table frame=\"box\" rules=\"cols\">\n",
       "    <tr>\n",
       "        <th style=\"padding-left: 1em; padding-right: 1em; text-align: center\">id</th>\n",
       "        <th style=\"padding-left: 1em; padding-right: 1em; text-align: center\">date</th>\n",
       "        <th style=\"padding-left: 1em; padding-right: 1em; text-align: center\">price</th>\n",
       "        <th style=\"padding-left: 1em; padding-right: 1em; text-align: center\">bedrooms</th>\n",
       "        <th style=\"padding-left: 1em; padding-right: 1em; text-align: center\">bathrooms</th>\n",
       "        <th style=\"padding-left: 1em; padding-right: 1em; text-align: center\">sqft_living</th>\n",
       "        <th style=\"padding-left: 1em; padding-right: 1em; text-align: center\">sqft_lot</th>\n",
       "        <th style=\"padding-left: 1em; padding-right: 1em; text-align: center\">floors</th>\n",
       "        <th style=\"padding-left: 1em; padding-right: 1em; text-align: center\">waterfront</th>\n",
       "    </tr>\n",
       "    <tr>\n",
       "        <td style=\"padding-left: 1em; padding-right: 1em; text-align: center; vertical-align: top\">7129300520</td>\n",
       "        <td style=\"padding-left: 1em; padding-right: 1em; text-align: center; vertical-align: top\">2014-10-13 00:00:00+00:00</td>\n",
       "        <td style=\"padding-left: 1em; padding-right: 1em; text-align: center; vertical-align: top\">221900</td>\n",
       "        <td style=\"padding-left: 1em; padding-right: 1em; text-align: center; vertical-align: top\">3</td>\n",
       "        <td style=\"padding-left: 1em; padding-right: 1em; text-align: center; vertical-align: top\">1</td>\n",
       "        <td style=\"padding-left: 1em; padding-right: 1em; text-align: center; vertical-align: top\">1180</td>\n",
       "        <td style=\"padding-left: 1em; padding-right: 1em; text-align: center; vertical-align: top\">5650</td>\n",
       "        <td style=\"padding-left: 1em; padding-right: 1em; text-align: center; vertical-align: top\">1</td>\n",
       "        <td style=\"padding-left: 1em; padding-right: 1em; text-align: center; vertical-align: top\">0</td>\n",
       "    </tr>\n",
       "    <tr>\n",
       "        <td style=\"padding-left: 1em; padding-right: 1em; text-align: center; vertical-align: top\">6414100192</td>\n",
       "        <td style=\"padding-left: 1em; padding-right: 1em; text-align: center; vertical-align: top\">2014-12-09 00:00:00+00:00</td>\n",
       "        <td style=\"padding-left: 1em; padding-right: 1em; text-align: center; vertical-align: top\">538000</td>\n",
       "        <td style=\"padding-left: 1em; padding-right: 1em; text-align: center; vertical-align: top\">3</td>\n",
       "        <td style=\"padding-left: 1em; padding-right: 1em; text-align: center; vertical-align: top\">2.25</td>\n",
       "        <td style=\"padding-left: 1em; padding-right: 1em; text-align: center; vertical-align: top\">2570</td>\n",
       "        <td style=\"padding-left: 1em; padding-right: 1em; text-align: center; vertical-align: top\">7242</td>\n",
       "        <td style=\"padding-left: 1em; padding-right: 1em; text-align: center; vertical-align: top\">2</td>\n",
       "        <td style=\"padding-left: 1em; padding-right: 1em; text-align: center; vertical-align: top\">0</td>\n",
       "    </tr>\n",
       "    <tr>\n",
       "        <td style=\"padding-left: 1em; padding-right: 1em; text-align: center; vertical-align: top\">5631500400</td>\n",
       "        <td style=\"padding-left: 1em; padding-right: 1em; text-align: center; vertical-align: top\">2015-02-25 00:00:00+00:00</td>\n",
       "        <td style=\"padding-left: 1em; padding-right: 1em; text-align: center; vertical-align: top\">180000</td>\n",
       "        <td style=\"padding-left: 1em; padding-right: 1em; text-align: center; vertical-align: top\">2</td>\n",
       "        <td style=\"padding-left: 1em; padding-right: 1em; text-align: center; vertical-align: top\">1</td>\n",
       "        <td style=\"padding-left: 1em; padding-right: 1em; text-align: center; vertical-align: top\">770</td>\n",
       "        <td style=\"padding-left: 1em; padding-right: 1em; text-align: center; vertical-align: top\">10000</td>\n",
       "        <td style=\"padding-left: 1em; padding-right: 1em; text-align: center; vertical-align: top\">1</td>\n",
       "        <td style=\"padding-left: 1em; padding-right: 1em; text-align: center; vertical-align: top\">0</td>\n",
       "    </tr>\n",
       "</table>\n",
       "<table frame=\"box\" rules=\"cols\">\n",
       "    <tr>\n",
       "        <th style=\"padding-left: 1em; padding-right: 1em; text-align: center\">view</th>\n",
       "        <th style=\"padding-left: 1em; padding-right: 1em; text-align: center\">condition</th>\n",
       "        <th style=\"padding-left: 1em; padding-right: 1em; text-align: center\">grade</th>\n",
       "        <th style=\"padding-left: 1em; padding-right: 1em; text-align: center\">sqft_above</th>\n",
       "        <th style=\"padding-left: 1em; padding-right: 1em; text-align: center\">sqft_basement</th>\n",
       "        <th style=\"padding-left: 1em; padding-right: 1em; text-align: center\">yr_built</th>\n",
       "        <th style=\"padding-left: 1em; padding-right: 1em; text-align: center\">yr_renovated</th>\n",
       "        <th style=\"padding-left: 1em; padding-right: 1em; text-align: center\">zipcode</th>\n",
       "        <th style=\"padding-left: 1em; padding-right: 1em; text-align: center\">lat</th>\n",
       "    </tr>\n",
       "    <tr>\n",
       "        <td style=\"padding-left: 1em; padding-right: 1em; text-align: center; vertical-align: top\">0</td>\n",
       "        <td style=\"padding-left: 1em; padding-right: 1em; text-align: center; vertical-align: top\">3</td>\n",
       "        <td style=\"padding-left: 1em; padding-right: 1em; text-align: center; vertical-align: top\">7</td>\n",
       "        <td style=\"padding-left: 1em; padding-right: 1em; text-align: center; vertical-align: top\">1180</td>\n",
       "        <td style=\"padding-left: 1em; padding-right: 1em; text-align: center; vertical-align: top\">0</td>\n",
       "        <td style=\"padding-left: 1em; padding-right: 1em; text-align: center; vertical-align: top\">1955</td>\n",
       "        <td style=\"padding-left: 1em; padding-right: 1em; text-align: center; vertical-align: top\">0</td>\n",
       "        <td style=\"padding-left: 1em; padding-right: 1em; text-align: center; vertical-align: top\">98178</td>\n",
       "        <td style=\"padding-left: 1em; padding-right: 1em; text-align: center; vertical-align: top\">47.51123398</td>\n",
       "    </tr>\n",
       "    <tr>\n",
       "        <td style=\"padding-left: 1em; padding-right: 1em; text-align: center; vertical-align: top\">0</td>\n",
       "        <td style=\"padding-left: 1em; padding-right: 1em; text-align: center; vertical-align: top\">3</td>\n",
       "        <td style=\"padding-left: 1em; padding-right: 1em; text-align: center; vertical-align: top\">7</td>\n",
       "        <td style=\"padding-left: 1em; padding-right: 1em; text-align: center; vertical-align: top\">2170</td>\n",
       "        <td style=\"padding-left: 1em; padding-right: 1em; text-align: center; vertical-align: top\">400</td>\n",
       "        <td style=\"padding-left: 1em; padding-right: 1em; text-align: center; vertical-align: top\">1951</td>\n",
       "        <td style=\"padding-left: 1em; padding-right: 1em; text-align: center; vertical-align: top\">1991</td>\n",
       "        <td style=\"padding-left: 1em; padding-right: 1em; text-align: center; vertical-align: top\">98125</td>\n",
       "        <td style=\"padding-left: 1em; padding-right: 1em; text-align: center; vertical-align: top\">47.72102274</td>\n",
       "    </tr>\n",
       "    <tr>\n",
       "        <td style=\"padding-left: 1em; padding-right: 1em; text-align: center; vertical-align: top\">0</td>\n",
       "        <td style=\"padding-left: 1em; padding-right: 1em; text-align: center; vertical-align: top\">3</td>\n",
       "        <td style=\"padding-left: 1em; padding-right: 1em; text-align: center; vertical-align: top\">6</td>\n",
       "        <td style=\"padding-left: 1em; padding-right: 1em; text-align: center; vertical-align: top\">770</td>\n",
       "        <td style=\"padding-left: 1em; padding-right: 1em; text-align: center; vertical-align: top\">0</td>\n",
       "        <td style=\"padding-left: 1em; padding-right: 1em; text-align: center; vertical-align: top\">1933</td>\n",
       "        <td style=\"padding-left: 1em; padding-right: 1em; text-align: center; vertical-align: top\">0</td>\n",
       "        <td style=\"padding-left: 1em; padding-right: 1em; text-align: center; vertical-align: top\">98028</td>\n",
       "        <td style=\"padding-left: 1em; padding-right: 1em; text-align: center; vertical-align: top\">47.73792661</td>\n",
       "    </tr>\n",
       "</table>\n",
       "<table frame=\"box\" rules=\"cols\">\n",
       "    <tr>\n",
       "        <th style=\"padding-left: 1em; padding-right: 1em; text-align: center\">long</th>\n",
       "        <th style=\"padding-left: 1em; padding-right: 1em; text-align: center\">sqft_living15</th>\n",
       "        <th style=\"padding-left: 1em; padding-right: 1em; text-align: center\">sqft_lot15</th>\n",
       "    </tr>\n",
       "    <tr>\n",
       "        <td style=\"padding-left: 1em; padding-right: 1em; text-align: center; vertical-align: top\">-122.25677536</td>\n",
       "        <td style=\"padding-left: 1em; padding-right: 1em; text-align: center; vertical-align: top\">1340.0</td>\n",
       "        <td style=\"padding-left: 1em; padding-right: 1em; text-align: center; vertical-align: top\">5650.0</td>\n",
       "    </tr>\n",
       "    <tr>\n",
       "        <td style=\"padding-left: 1em; padding-right: 1em; text-align: center; vertical-align: top\">-122.3188624</td>\n",
       "        <td style=\"padding-left: 1em; padding-right: 1em; text-align: center; vertical-align: top\">1690.0</td>\n",
       "        <td style=\"padding-left: 1em; padding-right: 1em; text-align: center; vertical-align: top\">7639.0</td>\n",
       "    </tr>\n",
       "    <tr>\n",
       "        <td style=\"padding-left: 1em; padding-right: 1em; text-align: center; vertical-align: top\">-122.23319601</td>\n",
       "        <td style=\"padding-left: 1em; padding-right: 1em; text-align: center; vertical-align: top\">2720.0</td>\n",
       "        <td style=\"padding-left: 1em; padding-right: 1em; text-align: center; vertical-align: top\">8062.0</td>\n",
       "    </tr>\n",
       "</table>\n",
       "[3 rows x 21 columns]<br/>\n",
       "</div>"
      ],
      "text/plain": [
       "Columns:\n",
       "\tid\tstr\n",
       "\tdate\tdatetime\n",
       "\tprice\tint\n",
       "\tbedrooms\tstr\n",
       "\tbathrooms\tstr\n",
       "\tsqft_living\tint\n",
       "\tsqft_lot\tint\n",
       "\tfloors\tstr\n",
       "\twaterfront\tint\n",
       "\tview\tint\n",
       "\tcondition\tint\n",
       "\tgrade\tint\n",
       "\tsqft_above\tint\n",
       "\tsqft_basement\tint\n",
       "\tyr_built\tint\n",
       "\tyr_renovated\tint\n",
       "\tzipcode\tstr\n",
       "\tlat\tfloat\n",
       "\tlong\tfloat\n",
       "\tsqft_living15\tfloat\n",
       "\tsqft_lot15\tfloat\n",
       "\n",
       "Rows: 3\n",
       "\n",
       "Data:\n",
       "+------------+---------------------------+--------+----------+-----------+-------------+\n",
       "|     id     |            date           | price  | bedrooms | bathrooms | sqft_living |\n",
       "+------------+---------------------------+--------+----------+-----------+-------------+\n",
       "| 7129300520 | 2014-10-13 00:00:00+00:00 | 221900 |    3     |     1     |     1180    |\n",
       "| 6414100192 | 2014-12-09 00:00:00+00:00 | 538000 |    3     |    2.25   |     2570    |\n",
       "| 5631500400 | 2015-02-25 00:00:00+00:00 | 180000 |    2     |     1     |     770     |\n",
       "+------------+---------------------------+--------+----------+-----------+-------------+\n",
       "+----------+--------+------------+------+-----------+-------+------------+---------------+\n",
       "| sqft_lot | floors | waterfront | view | condition | grade | sqft_above | sqft_basement |\n",
       "+----------+--------+------------+------+-----------+-------+------------+---------------+\n",
       "|   5650   |   1    |     0      |  0   |     3     |   7   |    1180    |       0       |\n",
       "|   7242   |   2    |     0      |  0   |     3     |   7   |    2170    |      400      |\n",
       "|  10000   |   1    |     0      |  0   |     3     |   6   |    770     |       0       |\n",
       "+----------+--------+------------+------+-----------+-------+------------+---------------+\n",
       "+----------+--------------+---------+-------------+---------------+---------------+-----+\n",
       "| yr_built | yr_renovated | zipcode |     lat     |      long     | sqft_living15 | ... |\n",
       "+----------+--------------+---------+-------------+---------------+---------------+-----+\n",
       "|   1955   |      0       |  98178  | 47.51123398 | -122.25677536 |     1340.0    | ... |\n",
       "|   1951   |     1991     |  98125  | 47.72102274 |  -122.3188624 |     1690.0    | ... |\n",
       "|   1933   |      0       |  98028  | 47.73792661 | -122.23319601 |     2720.0    | ... |\n",
       "+----------+--------------+---------+-------------+---------------+---------------+-----+\n",
       "[3 rows x 21 columns]"
      ]
     },
     "execution_count": 7,
     "metadata": {},
     "output_type": "execute_result"
    }
   ],
   "source": [
    "\n",
    "sales.head(3)"
   ]
  },
  {
   "cell_type": "code",
   "execution_count": 16,
   "metadata": {
    "collapsed": false
   },
   "outputs": [
    {
     "data": {
      "application/javascript": [
       "$(\"head\").append($(\"<link/>\").attr({\n",
       "  rel:  \"stylesheet\",\n",
       "  type: \"text/css\",\n",
       "  href: \"//cdnjs.cloudflare.com/ajax/libs/font-awesome/4.1.0/css/font-awesome.min.css\"\n",
       "}));\n",
       "$(\"head\").append($(\"<link/>\").attr({\n",
       "  rel:  \"stylesheet\",\n",
       "  type: \"text/css\",\n",
       "  href: \"https://static.turi.com/products/graphlab-create/2.1/canvas/css/canvas.css\"\n",
       "}));\n",
       "\n",
       "            (function(){\n",
       "\n",
       "                var e = null;\n",
       "                if (typeof element == 'undefined') {\n",
       "                    var scripts = document.getElementsByTagName('script');\n",
       "                    var thisScriptTag = scripts[scripts.length-1];\n",
       "                    var parentDiv = thisScriptTag.parentNode;\n",
       "                    e = document.createElement('div');\n",
       "                    parentDiv.appendChild(e);\n",
       "                } else {\n",
       "                    e = element[0];\n",
       "                }\n",
       "\n",
       "                if (typeof requirejs !== 'undefined') {\n",
       "                    // disable load timeout; ipython_app.js is large and can take a while to load.\n",
       "                    requirejs.config({waitSeconds: 0});\n",
       "                }\n",
       "\n",
       "                require(['https://static.turi.com/products/graphlab-create/2.1/canvas/js/ipython_app.js'], function(IPythonApp){\n",
       "                    var app = new IPythonApp();\n",
       "                    app.attachView('sframe','Plots', {\"selected_variable\": {\"name\": [\"sales\"], \"descriptives\": {\"rows\": 21613, \"columns\": 21}, \"view_component\": \"Plots\", \"view_file\": \"sframe\", \"view_params\": {\"y\": \"price\", \"x\": \"sqft_living\", \"columns\": [\"id\", \"date\", \"price\", \"bedrooms\", \"bathrooms\", \"sqft_living\", \"sqft_lot\", \"floors\", \"waterfront\", \"view\", \"condition\", \"grade\", \"sqft_above\", \"sqft_basement\", \"yr_built\", \"yr_renovated\", \"zipcode\", \"lat\", \"long\", \"sqft_living15\", \"sqft_lot15\"], \"view\": \"Scatter Plot\"}, \"view_components\": [\"Summary\", \"Table\", \"Bar Chart\", \"BoxWhisker Plot\", \"Line Chart\", \"Scatter Plot\", \"Heat Map\", \"Plots\"], \"type\": \"SFrame\", \"columns\": [{\"dtype\": \"str\", \"name\": \"id\"}, {\"dtype\": \"datetime\", \"name\": \"date\"}, {\"dtype\": \"int\", \"name\": \"price\"}, {\"dtype\": \"str\", \"name\": \"bedrooms\"}, {\"dtype\": \"str\", \"name\": \"bathrooms\"}, {\"dtype\": \"int\", \"name\": \"sqft_living\"}, {\"dtype\": \"int\", \"name\": \"sqft_lot\"}, {\"dtype\": \"str\", \"name\": \"floors\"}, {\"dtype\": \"int\", \"name\": \"waterfront\"}, {\"dtype\": \"int\", \"name\": \"view\"}, {\"dtype\": \"int\", \"name\": \"condition\"}, {\"dtype\": \"int\", \"name\": \"grade\"}, {\"dtype\": \"int\", \"name\": \"sqft_above\"}, {\"dtype\": \"int\", \"name\": \"sqft_basement\"}, {\"dtype\": \"int\", \"name\": \"yr_built\"}, {\"dtype\": \"int\", \"name\": \"yr_renovated\"}, {\"dtype\": \"str\", \"name\": \"zipcode\"}, {\"dtype\": \"float\", \"name\": \"lat\"}, {\"dtype\": \"float\", \"name\": \"long\"}, {\"dtype\": \"float\", \"name\": \"sqft_living15\"}, {\"dtype\": \"float\", \"name\": \"sqft_lot15\"}], \"column_identifiers\": [\"bathrooms\", \"sqft_living15\", \"sqft_above\", \"grade\", \"yr_built\", \"price\", \"bedrooms\", \"zipcode\", \"long\", \"id\", \"sqft_lot15\", \"sqft_living\", \"floors\", \"sqft_lot\", \"date\", \"waterfront\", \"sqft_basement\", \"yr_renovated\", \"lat\", \"condition\", \"view\"]}, \"complete\": 1, \"ipython\": true, \"progress\": 1.0, \"data\": [[1010, 174500], [3900, 780000], [4610, 1245000], [3110, 755000], [2180, 445000], [5420, 1225000], [1460, 1010000], [1770, 1175000], [700, 430000], [1450, 150000], [1090, 219500], [2810, 685000], [2080, 592500], [960, 500000], [2670, 370000], [2710, 591000], [2740, 779000], [2120, 426000], [1120, 365000], [2803, 379000], [1740, 182700], [1710, 273148], [620, 325000], [1730, 302200], [1670, 600000], [2290, 580000], [1590, 280000], [1400, 667000], [1090, 598800], [2570, 719000], [1160, 210000], [1660, 225000], [1090, 190000], [2200, 300000], [970, 425000], [2140, 349950], [1280, 425000], [2200, 358000], [1570, 253000], [1270, 218250], [1620, 640000], [890, 391000], [2610, 757000], [2610, 605000], [1280, 309000], [4420, 925000], [2800, 449950], [2290, 785000], [1040, 348000], [990, 399000], [2475, 319900], [3080, 539500], [1820, 329950], [2680, 777000], [3920, 965000], [1450, 275000], [2300, 224000], [1060, 405000], [670, 190000], [3400, 712000], [1010, 200000], [1340, 199950], [1590, 263000], [1420, 461000], [1660, 425000], [2510, 575000], [3370, 675000], [1640, 759000], [1870, 285000], [1540, 384000], [1390, 234000], [2570, 634000], [1320, 455000], [1770, 242500], [2240, 497000], [5190, 2900000], [1510, 629000], [1860, 528000], [1780, 586500], [3520, 470000], [1440, 465000], [1050, 430000], [1750, 472500], [1250, 370000], [1630, 650000], [1410, 307000], [2090, 340000], [3000, 430000], [1552, 282000], [2050, 613200], [1150, 344000], [2320, 900000], [1600, 502000], [900, 375000], [3300, 725000], [1250, 144000], [860, 227000], [1520, 250000], [2240, 452500], [1780, 252500], [1790, 250000], [1760, 575000], [1400, 359950], [2030, 597500], [1270, 435000], [1730, 596000], [1180, 410000], [1330, 440000], [1410, 318000], [2170, 876650], [3590, 1205000], [1870, 460000], [1800, 416000], [1430, 330000], [3060, 399000], [860, 330000], [1430, 270000], [1820, 700000], [1290, 200000], [2970, 499500], [1450, 585000], [1140, 197200], [1800, 450000], [1930, 631000], [1900, 550000], [1150, 354500], [1810, 501000], [1490, 234000], [1200, 203000], [4170, 1300000], [1230, 322000], [1180, 345000], [2030, 643000], [3530, 1655000], [4030, 920000], [1710, 480000], [2230, 490000], [2570, 1180000], [940, 230000], [1030, 267000], [2940, 752000], [3010, 775000], [1530, 412500], [2550, 369000], [2200, 355000], [1480, 310000], [1380, 294000], [3940, 1695000], [2690, 346290], [1170, 455000], [3880, 1815000], [2390, 750000], [2700, 1260000], [630, 430000], [700, 350000], [3450, 850000], [1800, 250000], [1830, 220000], [2720, 665000], [2740, 585444], [5480, 3650000], [3620, 996000], [2200, 522500], [1790, 650000], [1720, 270000], [950, 430000], [1860, 215000], [2250, 615000], [1820, 661000], [1780, 372000], [1790, 225000], [1360, 488000], [940, 392000], [3280, 809950], [710, 289000], [1260, 485000], [4220, 799950], [2070, 1250000], [580, 220000], [2250, 648475], [2640, 650000], [2680, 390000], [2370, 490000], [1180, 330000], [1530, 575000], [1720, 521000], [3400, 585000], [1310, 240000], [1330, 615000], [2130, 1065000], [1070, 245000], [1190, 166950], [1530, 865000], [1990, 545000], [1060, 310000], [1516, 575575], [2480, 455000], [2340, 560000], [1560, 430000], [1610, 269000], [1310, 553000], [1960, 450000], [1100, 353000], [1260, 320000], [1400, 279000], [2700, 572000], [2200, 305000], [1580, 379000], [900, 180250], [2170, 831000], [1220, 161500], [2850, 993000], [2240, 592500], [2070, 645000], [3040, 691000], [1950, 225000], [2020, 420000], [1860, 249000], [1860, 415000], [1850, 1375000], [1800, 610000], [1830, 639000], [2590, 799000], [770, 264950], [2390, 926250], [1430, 270000], [1510, 479950], [1400, 470000], [4410, 1268888], [1560, 335000], [2520, 540000], [2050, 790000], [2940, 315000], [990, 208000], [2480, 979700], [1940, 432500], [1010, 636100], [3470, 772000], [2510, 880000], [2480, 525000], [1510, 190000], [1130, 185000], [4590, 1148000], [2320, 685000], [1700, 263950], [1320, 232500], [1010, 350000], [2360, 580050], [1400, 231200], [3320, 786000], [1280, 370000], [3030, 998000], [3120, 750000], [2730, 769900], [1650, 402500], [2120, 440000], [2330, 1150000], [1820, 299500], [2540, 652500], [1600, 390000], [2640, 489950], [1270, 237000], [2330, 325000], [3770, 1229000], [1970, 255000], [1445, 355000], [2640, 365000], [930, 290000], [830, 150000], [2470, 597000], [1670, 282500], [2750, 819000], [1700, 210000], [1820, 286000], [2590, 470000], [990, 210000], [1840, 701000], [3230, 409000], [3030, 525000], [1610, 215000], [1360, 425000], [2190, 665000], [2930, 890000], [1270, 467000], [2170, 278000], [1680, 620000], [2500, 467000], [4010, 1325000], [1480, 355000], [3080, 637000], [2950, 921800], [2100, 990400], [800, 325000], [1990, 378000], [1852, 298000], [3030, 599900], [1380, 350000], [2610, 547500], [1940, 611206], [1200, 210000], [2710, 830000], [1680, 275000], [2050, 385000], [1522, 407500], [3350, 650000], [1370, 249950], [2580, 604000], [1370, 229000], [1490, 412500], [1070, 406650], [1280, 649000], [3250, 463828], [2990, 900000], [960, 305000], [2290, 470000], [4340, 2945000], [1560, 600000], [3070, 350000], [2870, 540000], [1200, 455000], [2340, 529000], [2590, 961000], [1680, 610950], [2660, 900000], [2550, 595000], [820, 245000], [3290, 648000], [2050, 740000], [960, 319000], [4030, 835000], [2310, 785000], [3390, 780000], [1770, 381000], [1590, 310000], [960, 379500], [3020, 1272000], [2290, 668500], [3300, 780000], [1340, 479000], [2240, 328000], [2720, 940000], [2820, 682000], [8020, 3300000], [2400, 540000], [1560, 273500], [1330, 424000], [2180, 540000], [1350, 335000], [2150, 490000], [2230, 635000], [3890, 1802750], [2270, 855000], [480, 145000], [1120, 219900], [1500, 419000], [1730, 250000], [2090, 477500], [3700, 415000], [1010, 147500], [2440, 679900], [1020, 435500], [2070, 250000], [3560, 1280600], [2780, 325000], [5010, 1468000], [3040, 478000], [1890, 400000], [3520, 810000], [4130, 998000], [1510, 366000], [1430, 280000], [1410, 391000], [1030, 718000], [2320, 364808], [2060, 339989], [2517, 353900], [2450, 299000], [1590, 275000], [2680, 930000], [1390, 425000], [1400, 358000], [1260, 190000], [3330, 1240000], [1510, 195000], [1870, 348500], [2510, 799000], [2340, 510000], [830, 135000], [1310, 323000], [1690, 419990], [1200, 306000], [2250, 585000], [860, 250000], [1900, 390000], [2690, 699850], [1770, 240000], [1460, 162000], [1960, 363000], [1900, 450000], [1530, 269900], [1710, 557000], [2030, 730000], [1430, 450000], [1590, 356000], [1130, 315450], [1750, 650100], [2830, 1115500], [2100, 483000], [930, 235000], [1620, 290000], [1850, 485000], [4130, 2750000], [4270, 770000], [1910, 220000], [3050, 840000], [2430, 305000], [2590, 368000], [2090, 489500], [1900, 220000], [4230, 875000], [1490, 265950], [1170, 275000], [1230, 200000], [1250, 357000], [1610, 575000], [2360, 390000], [2420, 550000], [3030, 455000], [2070, 410000], [2080, 329800], [1240, 215000], [1920, 380000], [1330, 479000], [990, 421500], [3720, 500000], [1450, 521500], [1070, 361500], [1730, 339950], [1270, 438000], [1170, 235000], [1700, 979000], [930, 200000], [1800, 515000], [2140, 210000], [1900, 579000], [2330, 639900], [3545, 1030000], [1260, 505000], [2690, 419000], [2400, 595000], [2520, 470000], [2780, 479950], [3180, 1000000], [2090, 339000], [620, 175000], [1440, 650000], [2740, 690000], [1870, 520000], [1982, 283200], [2100, 480000], [1450, 400000], [4220, 1635000], [1290, 489000], [1540, 630000], [2250, 645000], [430, 80000], [1380, 462000], [3340, 910000], [3670, 883000], [3360, 590000], [1840, 269500], [2620, 838400], [1480, 425000], [1700, 315000], [1322, 215000], [2210, 445500], [1940, 300000], [1800, 485500], [1250, 353000], [2910, 590000], [2019, 293000], [3110, 2260000], [1280, 187000], [920, 555500], [1990, 180000], [1720, 313100], [1740, 517000], [1470, 235000], [2810, 699900], [910, 305000], [3370, 480000], [2640, 530000], [1300, 232000], [1700, 437000], [5470, 1612500], [1400, 386500], [1950, 385000], [740, 342000], [2420, 598000], [1480, 224000], [2240, 290000], [2220, 1425000], [820, 220000], [1430, 380000], [1260, 785000], [1720, 583500], [1190, 235000], [3030, 879000], [1020, 235000], [1880, 355000], [900, 355000], [950, 550000], [1670, 490000], [2640, 359000], [890, 409000], [5040, 2850000], [2040, 710500], [1400, 367000], [1540, 425000], [1850, 474950], [1100, 300000], [1490, 205950], [2140, 564000], [1850, 218000], [1740, 339000], [1600, 525000], [1390, 186950], [1820, 469000], [1370, 469000], [1490, 480000], [2240, 530000], [1360, 200000], [2200, 512500], [960, 180000], [2410, 415000], [1610, 540000], [1700, 660000], [1270, 404500], [1360, 249000], [1610, 282000], [3010, 500000], [2520, 875000], [1540, 450000], [1910, 620000], [1130, 375000], [2660, 760000], [1270, 406000], [1340, 360000], [2100, 506400], [4970, 1436000], [1440, 330490], [1930, 689888], [2610, 439000], [4390, 1880000], [2550, 446000], [1700, 331500], [2010, 427500], [1440, 285000], [1900, 541500], [1850, 277000], [2230, 544500], [1140, 345000], [1030, 249000], [1480, 641000], [1030, 240000], [1500, 436000], [2510, 541100], [3090, 870000], [3370, 2300000], [1960, 371000], [2040, 525000], [2760, 300000], [2200, 460000], [1450, 274500], [2100, 350000], [1960, 256500], [1790, 800000], [1860, 529950], [1140, 310000], [1100, 374000], [1700, 710000], [2740, 530000], [1770, 455000], [1850, 572000], [2790, 483453], [1840, 300000], [3030, 790000], [2270, 631000], [3170, 820000], [1340, 455000], [1640, 579000], [2230, 537000], [1420, 250000], [1470, 240000], [3100, 1289000], [1280, 687500], [2900, 790000], [2540, 650000], [1870, 285000], [1690, 460000], [2020, 475000], [1090, 249000], [2510, 820000], [2700, 1365000], [2000, 602000], [1660, 625000], [2620, 695000], [2160, 770000], [1200, 486700], [1950, 895000], [3360, 804995], [3240, 975000], [2870, 560000], [2390, 355000], [1840, 190000], [1130, 227000], [1470, 650000], [1170, 425000], [2990, 490000], [2460, 358000], [1960, 560000], [1800, 295000], [1310, 253000], [2420, 455600], [1640, 832600], [910, 425000], [1660, 548800], [2350, 462500], [860, 256000], [1710, 372000], [2170, 685000], [1040, 450000], [5120, 1237500], [3370, 1550000], [2850, 373000], [2560, 385000], [2490, 595500], [3060, 455000], [1480, 237500], [790, 399000], [2380, 365650], [1740, 299950], [1040, 272000], [1190, 555000], [2000, 540000], [2370, 495000], [2040, 610000], [2920, 325000], [1860, 397500], [1620, 641000], [2370, 348000], [1330, 386000], [2330, 615000], [2030, 750000], [1590, 850000], [1870, 559950], [1450, 271900], [1430, 284000], [2020, 345000], [2380, 299999], [2170, 740000], [1980, 374950], [2270, 452000], [3530, 583500], [1510, 470000], [2340, 645000], [1920, 325000], [1730, 625000], [1690, 297000], [2110, 610000], [2390, 695000], [1430, 356000], [4560, 1215000], [3370, 540000], [1150, 382500], [1830, 510000], [2650, 429000], [1680, 485000], [2650, 898000], [840, 445000], [2080, 460000], [1690, 260000], [960, 406000], [860, 405000], [1240, 185000], [1310, 300000], [2060, 340000], [4030, 929000], [1280, 415000], [4140, 950000], [1220, 175000], [1550, 245000], [3040, 538900], [1680, 345000], [1740, 585000], [1890, 375000], [2290, 347500], [1440, 260000], [860, 245000], [2800, 920000], [1800, 436000], [2160, 410000], [3380, 751000], [1320, 275000], [1510, 624000], [1750, 661000], [2250, 670000], [4780, 1640000], [2450, 480000], [2190, 503000], [960, 420000], [3430, 1211000], [1600, 375000], [2170, 242050], [2000, 427000], [1190, 203000], [1300, 287000], [1570, 580000], [3040, 700000], [1964, 342000], [3620, 1164000], [1590, 405000], [1940, 665000], [1460, 465000], [2720, 873000], [1970, 339000], [1470, 613000], [1400, 267000], [1470, 328000], [1986, 715000], [1970, 501000], [1840, 435000], [4883, 537000], [4370, 897500], [2156, 347500], [1420, 265000], [3880, 1126000], [1730, 575000], [3350, 720500], [1280, 549900], [1460, 497000], [3280, 645000], [2450, 850000], [1660, 650000], [1410, 404000], [1730, 335000], [1740, 539000], [2990, 644500], [1890, 319990], [2370, 305000], [2350, 725000], [1650, 438000], [1020, 410000], [2500, 640000], [2370, 351999], [1110, 532000], [1920, 674000], [1420, 510000], [1460, 629000], [1670, 1236000], [2140, 589999], [2430, 310000], [1500, 395000], [840, 471000], [3210, 696500], [1930, 385000], [1590, 411000], [3300, 760000], [1290, 658000], [1200, 412000], [800, 373500], [1710, 320000], [3770, 1038000], [1230, 393500], [3220, 440000], [2620, 443000], [2100, 495000], [1850, 920000], [1470, 248000], [4730, 3395000], [1300, 412250], [1987, 255000], [2770, 283450], [1070, 319950], [1800, 522000], [1480, 320000], [1280, 500000], [2590, 479000], [1940, 232500], [1590, 599000], [1740, 305000], [1070, 325000], [1980, 455000], [3280, 730000], [1180, 355000], [810, 235000], [1930, 315000], [1980, 272000], [1210, 342500], [1430, 429950], [2440, 1285000], [1570, 502000], [1060, 420000], [720, 295000], [1890, 750000], [1400, 340000], [2500, 740000], [2738, 395950], [1070, 350000], [1060, 111300], [910, 235000], [2590, 250000], [1350, 498800], [1530, 546000], [4890, 2400000], [1970, 262000], [2620, 978000], [1480, 415000], [1510, 248000], [1330, 295500], [3700, 1400000], [4150, 550000], [4660, 1280000], [1230, 220000], [1300, 270000], [3520, 1500000], [910, 415000], [1080, 112000], [1550, 555000], [1250, 164808], [1290, 481000], [3230, 785000], [1570, 500000], [2380, 1160000], [2670, 500000], [2230, 635000], [1860, 310000], [800, 250000], [1510, 313950], [2820, 297975], [2860, 825050], [1640, 480000], [1610, 215000], [830, 135000], [4250, 2300000], [1790, 304500], [1800, 272000], [3250, 1150000], [4420, 2700000], [1540, 490000], [3610, 982000], [1050, 287653], [820, 294000], [1280, 405000], [1080, 284000], [2692, 435000], [1480, 283000], [3270, 725000], [2200, 573500], [2310, 527500], [1660, 566000], [3110, 1500000], [1384, 575000], [2410, 648000], [2030, 435000], [1950, 275000], [1850, 495000], [3510, 948000], [1300, 275000], [1611, 850000], [2040, 345000], [2650, 398651], [2330, 588500], [2310, 1248000], [1070, 337000], [820, 320000], [1930, 285000], [1260, 333000], [2160, 383000], [1870, 377000], [1490, 255000], [1080, 203000], [1580, 389950], [1830, 494000], [2100, 492000], [1600, 286000], [2440, 650000], [1140, 466000], [1040, 687500], [3402, 498000], [4140, 1839900], [1550, 222000], [2770, 678000], [2980, 1058800], [1490, 604000], [1900, 360000], [2000, 430000], [2680, 660000], [1560, 494400], [1940, 661000], [1730, 435000], [2130, 515000], [1860, 672500], [590, 240000], [2940, 950000], [1680, 350000], [1240, 380000], [2628, 499160], [3090, 775000], [2710, 482000], [2020, 319000], [1590, 485000], [1780, 440000], [1520, 198500], [1600, 270000], [3520, 905000], [1320, 300000], [5780, 2321000], [2540, 945000], [760, 122000], [1240, 379900], [1870, 313999], [1780, 350000], [2290, 343000], [1720, 304000], [1370, 555000], [1100, 199990], [2940, 1010000], [2940, 1388000], [1930, 581000], [2150, 437400], [3200, 675000], [1640, 390000], [1800, 284000], [1760, 215000], [2130, 575000], [4580, 2000000], [1040, 227000], [2110, 516200], [1740, 225000], [2020, 519000], [1030, 305000], [1720, 683000], [3520, 1662000], [2370, 543000], [1460, 350000], [1810, 260000], [1960, 204250], [3990, 810000], [1840, 285000], [1040, 239000], [1500, 270000], [2640, 823000], [2140, 304400], [1590, 454000], [1340, 265000], [1620, 299000], [1320, 250000], [2480, 390000], [1310, 181000], [2050, 745000], [2090, 659000], [2530, 435000], [1730, 499990], [1820, 350000], [1490, 259000], [1740, 265000], [2100, 500000], [1460, 495000], [2720, 580000], [990, 219950], [1070, 265000], [2330, 390000], [1710, 524250], [1440, 232000], [2330, 572500], [1630, 609000], [1300, 398000], [2700, 390000], [1680, 425000], [860, 122000], [1410, 288000], [2330, 639500], [2700, 744500], [720, 210000], [1847, 215000], [1490, 285000], [1910, 253000], [1660, 712500], [1320, 387500], [2000, 323000], [1610, 269950], [1730, 299900], [1770, 419950], [2540, 350900], [1850, 830000], [5240, 1862000], [2160, 389900], [1930, 273000], [1630, 330950]], \"columns\": [{\"dtype\": \"str\", \"name\": \"id\"}, {\"dtype\": \"datetime\", \"name\": \"date\"}, {\"dtype\": \"int\", \"name\": \"price\"}, {\"dtype\": \"str\", \"name\": \"bedrooms\"}, {\"dtype\": \"str\", \"name\": \"bathrooms\"}, {\"dtype\": \"int\", \"name\": \"sqft_living\"}, {\"dtype\": \"int\", \"name\": \"sqft_lot\"}, {\"dtype\": \"str\", \"name\": \"floors\"}, {\"dtype\": \"int\", \"name\": \"waterfront\"}, {\"dtype\": \"int\", \"name\": \"view\"}, {\"dtype\": \"int\", \"name\": \"condition\"}, {\"dtype\": \"int\", \"name\": \"grade\"}, {\"dtype\": \"int\", \"name\": \"sqft_above\"}, {\"dtype\": \"int\", \"name\": \"sqft_basement\"}, {\"dtype\": \"int\", \"name\": \"yr_built\"}, {\"dtype\": \"int\", \"name\": \"yr_renovated\"}, {\"dtype\": \"str\", \"name\": \"zipcode\"}, {\"dtype\": \"float\", \"name\": \"lat\"}, {\"dtype\": \"float\", \"name\": \"long\"}, {\"dtype\": \"float\", \"name\": \"sqft_living15\"}, {\"dtype\": \"float\", \"name\": \"sqft_lot15\"}]}, e);\n",
       "                });\n",
       "            })();\n",
       "        "
      ]
     },
     "metadata": {},
     "output_type": "display_data"
    }
   ],
   "source": [
    "gl.canvas.set_target('ipynb')\n",
    "sales.show(view='Scatter Plot', x='sqft_living', y='price')"
   ]
  },
  {
   "cell_type": "code",
   "execution_count": null,
   "metadata": {
    "collapsed": true
   },
   "outputs": [],
   "source": []
  }
 ],
 "metadata": {
  "kernelspec": {
   "display_name": "Python 2",
   "language": "python",
   "name": "python2"
  },
  "language_info": {
   "codemirror_mode": {
    "name": "ipython",
    "version": 2
   },
   "file_extension": ".py",
   "mimetype": "text/x-python",
   "name": "python",
   "nbconvert_exporter": "python",
   "pygments_lexer": "ipython2",
   "version": "2.7.11"
  }
 },
 "nbformat": 4,
 "nbformat_minor": 0
}
